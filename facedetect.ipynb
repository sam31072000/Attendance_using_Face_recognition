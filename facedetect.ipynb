{
 "cells": [
  {
   "cell_type": "code",
   "execution_count": 1,
   "id": "1934ad00",
   "metadata": {},
   "outputs": [
    {
     "name": "stdout",
     "output_type": "stream",
     "text": [
      "[[[246 255 255]\n",
      "  [246 255 255]\n",
      "  [246 255 255]\n",
      "  ...\n",
      "  [ 76  90 112]\n",
      "  [ 75  89 111]\n",
      "  [ 74  88 110]]\n",
      "\n",
      " [[246 255 255]\n",
      "  [246 255 255]\n",
      "  [246 255 255]\n",
      "  ...\n",
      "  [ 76  90 112]\n",
      "  [ 75  89 111]\n",
      "  [ 75  89 111]]\n",
      "\n",
      " [[248 255 255]\n",
      "  [248 255 255]\n",
      "  [248 255 255]\n",
      "  ...\n",
      "  [ 75  89 111]\n",
      "  [ 75  89 111]\n",
      "  [ 75  89 111]]\n",
      "\n",
      " ...\n",
      "\n",
      " [[175 191 208]\n",
      "  [174 190 207]\n",
      "  [174 190 207]\n",
      "  ...\n",
      "  [181 197 213]\n",
      "  [182 198 214]\n",
      "  [182 199 212]]\n",
      "\n",
      " [[175 191 208]\n",
      "  [174 190 207]\n",
      "  [174 190 207]\n",
      "  ...\n",
      "  [183 199 215]\n",
      "  [183 200 213]\n",
      "  [181 198 211]]\n",
      "\n",
      " [[175 191 208]\n",
      "  [175 191 208]\n",
      "  [175 191 208]\n",
      "  ...\n",
      "  [184 200 216]\n",
      "  [184 201 214]\n",
      "  [181 198 211]]]\n"
     ]
    }
   ],
   "source": [
    "import cv2\n",
    "img = cv2.imread(\"image.JPG\")\n",
    "cv2.imshow(\"yyes\",img)\n",
    "cv2.waitKey(0)\n",
    "cv2.destroyAllWindows()\n",
    "print(img)"
   ]
  },
  {
   "cell_type": "code",
   "execution_count": 1,
   "id": "801dcf6d",
   "metadata": {},
   "outputs": [
    {
     "data": {
      "text/plain": [
       "6"
      ]
     },
     "execution_count": 1,
     "metadata": {},
     "output_type": "execute_result"
    }
   ],
   "source": [
    "2+4"
   ]
  },
  {
   "cell_type": "code",
   "execution_count": 2,
   "id": "9b265fdf",
   "metadata": {},
   "outputs": [
    {
     "name": "stdout",
     "output_type": "stream",
     "text": [
      "4.5.2\n"
     ]
    }
   ],
   "source": [
    "import cv2\n",
    "print(cv2.__version__)"
   ]
  },
  {
   "cell_type": "code",
   "execution_count": 3,
   "id": "0e54e00f",
   "metadata": {},
   "outputs": [
    {
     "name": "stdout",
     "output_type": "stream",
     "text": [
      "[[[246 255 255]\n",
      "  [246 255 255]\n",
      "  [246 255 255]\n",
      "  ...\n",
      "  [ 76  90 112]\n",
      "  [ 75  89 111]\n",
      "  [ 74  88 110]]\n",
      "\n",
      " [[246 255 255]\n",
      "  [246 255 255]\n",
      "  [246 255 255]\n",
      "  ...\n",
      "  [ 76  90 112]\n",
      "  [ 75  89 111]\n",
      "  [ 75  89 111]]\n",
      "\n",
      " [[248 255 255]\n",
      "  [248 255 255]\n",
      "  [248 255 255]\n",
      "  ...\n",
      "  [ 75  89 111]\n",
      "  [ 75  89 111]\n",
      "  [ 75  89 111]]\n",
      "\n",
      " ...\n",
      "\n",
      " [[175 191 208]\n",
      "  [174 190 207]\n",
      "  [174 190 207]\n",
      "  ...\n",
      "  [181 197 213]\n",
      "  [182 198 214]\n",
      "  [182 199 212]]\n",
      "\n",
      " [[175 191 208]\n",
      "  [174 190 207]\n",
      "  [174 190 207]\n",
      "  ...\n",
      "  [183 199 215]\n",
      "  [183 200 213]\n",
      "  [181 198 211]]\n",
      "\n",
      " [[175 191 208]\n",
      "  [175 191 208]\n",
      "  [175 191 208]\n",
      "  ...\n",
      "  [184 200 216]\n",
      "  [184 201 214]\n",
      "  [181 198 211]]]\n",
      "(5472, 3648, 3)\n"
     ]
    }
   ],
   "source": [
    "import cv2\n",
    "img = cv2.imread(\"image.JPG\")\n",
    "print(img)\n",
    "print(img.shape)"
   ]
  },
  {
   "cell_type": "code",
   "execution_count": 4,
   "id": "a6faf4b4",
   "metadata": {},
   "outputs": [
    {
     "name": "stdout",
     "output_type": "stream",
     "text": [
      "[[255 255 255 ...  95  94  93]\n",
      " [255 255 255 ...  95  94  94]\n",
      " [255 255 255 ...  94  94  94]\n",
      " ...\n",
      " [194 193 193 ... 200 201 201]\n",
      " [194 193 193 ... 202 202 200]\n",
      " [194 194 194 ... 203 203 200]]\n",
      "(5472, 3648)\n"
     ]
    },
    {
     "data": {
      "text/plain": [
       "True"
      ]
     },
     "execution_count": 4,
     "metadata": {},
     "output_type": "execute_result"
    }
   ],
   "source": [
    "import cv2\n",
    "img = cv2.imread(\"image.JPG\",0)\n",
    "print(img)\n",
    "print(img.shape)\n",
    "cv2.imwrite(\"copyimg.JPG\",img)"
   ]
  },
  {
   "cell_type": "code",
   "execution_count": 5,
   "id": "eff6db1c",
   "metadata": {},
   "outputs": [
    {
     "name": "stdout",
     "output_type": "stream",
     "text": [
      "[[255 255 255 ...  95  94  93]\n",
      " [255 255 255 ...  95  94  94]\n",
      " [255 255 255 ...  94  94  94]\n",
      " ...\n",
      " [194 193 193 ... 200 201 201]\n",
      " [194 193 193 ... 202 202 200]\n",
      " [194 194 194 ... 203 203 200]]\n",
      "(5472, 3648)\n"
     ]
    },
    {
     "data": {
      "text/plain": [
       "True"
      ]
     },
     "execution_count": 5,
     "metadata": {},
     "output_type": "execute_result"
    }
   ],
   "source": [
    "import cv2\n",
    "img = cv2.imread(\"image.JPG\",0)\n",
    "print(img)\n",
    "print(img.shape)\n",
    "cv2.imshow('show',img)\n",
    "cv2.imwrite(\"copyimg.JPG\",img)"
   ]
  },
  {
   "cell_type": "code",
   "execution_count": 6,
   "id": "84566c70",
   "metadata": {},
   "outputs": [
    {
     "name": "stdout",
     "output_type": "stream",
     "text": [
      "[[255 255 255 ...  95  94  93]\n",
      " [255 255 255 ...  95  94  94]\n",
      " [255 255 255 ...  94  94  94]\n",
      " ...\n",
      " [194 193 193 ... 200 201 201]\n",
      " [194 193 193 ... 202 202 200]\n",
      " [194 194 194 ... 203 203 200]]\n",
      "(5472, 3648)\n"
     ]
    },
    {
     "data": {
      "text/plain": [
       "32"
      ]
     },
     "execution_count": 6,
     "metadata": {},
     "output_type": "execute_result"
    }
   ],
   "source": [
    "import cv2\n",
    "img = cv2.imread(\"image.JPG\",0)\n",
    "print(img)\n",
    "print(img.shape)\n",
    "cv2.imshow('show',img)\n",
    "cv2.waitKey(0)\n",
    "# cv2.imwrite(\"copyimg.JPG\",img)"
   ]
  },
  {
   "cell_type": "code",
   "execution_count": 1,
   "id": "8a05b266",
   "metadata": {},
   "outputs": [
    {
     "name": "stdout",
     "output_type": "stream",
     "text": [
      "[[255 255 255 ...  95  94  93]\n",
      " [255 255 255 ...  95  94  94]\n",
      " [255 255 255 ...  94  94  94]\n",
      " ...\n",
      " [194 193 193 ... 200 201 201]\n",
      " [194 193 193 ... 202 202 200]\n",
      " [194 194 194 ... 203 203 200]]\n",
      "(5472, 3648)\n"
     ]
    },
    {
     "data": {
      "text/plain": [
       "-1"
      ]
     },
     "execution_count": 1,
     "metadata": {},
     "output_type": "execute_result"
    }
   ],
   "source": [
    "import cv2\n",
    "img = cv2.imread(\"image.JPG\",0)\n",
    "print(img)\n",
    "print(img.shape)\n",
    "cv2.imshow('show',img)\n",
    "cv2.waitKey(4000)"
   ]
  },
  {
   "cell_type": "code",
   "execution_count": 1,
   "id": "f549a863",
   "metadata": {},
   "outputs": [
    {
     "name": "stdout",
     "output_type": "stream",
     "text": [
      "[[255 255 255 ...  95  94  93]\n",
      " [255 255 255 ...  95  94  94]\n",
      " [255 255 255 ...  94  94  94]\n",
      " ...\n",
      " [194 193 193 ... 200 201 201]\n",
      " [194 193 193 ... 202 202 200]\n",
      " [194 194 194 ... 203 203 200]]\n",
      "(5472, 3648)\n"
     ]
    },
    {
     "ename": "AttributeError",
     "evalue": "module 'cv2.cv2' has no attribute 'destoryAllWindows'",
     "output_type": "error",
     "traceback": [
      "\u001b[1;31m---------------------------------------------------------------------------\u001b[0m",
      "\u001b[1;31mAttributeError\u001b[0m                            Traceback (most recent call last)",
      "\u001b[1;32m<ipython-input-1-9dcb9d694245>\u001b[0m in \u001b[0;36m<module>\u001b[1;34m\u001b[0m\n\u001b[0;32m      5\u001b[0m \u001b[0mcv2\u001b[0m\u001b[1;33m.\u001b[0m\u001b[0mimshow\u001b[0m\u001b[1;33m(\u001b[0m\u001b[1;34m'show'\u001b[0m\u001b[1;33m,\u001b[0m\u001b[0mimg\u001b[0m\u001b[1;33m)\u001b[0m\u001b[1;33m\u001b[0m\u001b[1;33m\u001b[0m\u001b[0m\n\u001b[0;32m      6\u001b[0m \u001b[0mcv2\u001b[0m\u001b[1;33m.\u001b[0m\u001b[0mwaitKey\u001b[0m\u001b[1;33m(\u001b[0m\u001b[1;36m4000\u001b[0m\u001b[1;33m)\u001b[0m\u001b[1;33m\u001b[0m\u001b[1;33m\u001b[0m\u001b[0m\n\u001b[1;32m----> 7\u001b[1;33m \u001b[0mcv2\u001b[0m\u001b[1;33m.\u001b[0m\u001b[0mdestoryAllWindows\u001b[0m\u001b[1;33m(\u001b[0m\u001b[1;33m)\u001b[0m\u001b[1;33m\u001b[0m\u001b[1;33m\u001b[0m\u001b[0m\n\u001b[0m",
      "\u001b[1;31mAttributeError\u001b[0m: module 'cv2.cv2' has no attribute 'destoryAllWindows'"
     ]
    }
   ],
   "source": [
    "import cv2\n",
    "img = cv2.imread(\"image.JPG\",0)\n",
    "print(img)\n",
    "print(img.shape)\n",
    "cv2.imshow('show',img)\n",
    "cv2.waitKey(4000)\n",
    "cv2.destoryAllWindows()"
   ]
  },
  {
   "cell_type": "code",
   "execution_count": 1,
   "id": "5624fd96",
   "metadata": {},
   "outputs": [
    {
     "name": "stdout",
     "output_type": "stream",
     "text": [
      "[[255 255 255 ...  95  94  93]\n",
      " [255 255 255 ...  95  94  94]\n",
      " [255 255 255 ...  94  94  94]\n",
      " ...\n",
      " [194 193 193 ... 200 201 201]\n",
      " [194 193 193 ... 202 202 200]\n",
      " [194 194 194 ... 203 203 200]]\n",
      "(5472, 3648)\n"
     ]
    }
   ],
   "source": [
    "import cv2\n",
    "img = cv2.imread(\"image.JPG\",0)\n",
    "print(img)\n",
    "print(img.shape)\n",
    "cv2.imshow('show',img)\n",
    "cv2.waitKey(4000)\n",
    "cv2.destroyAllWindows()"
   ]
  },
  {
   "cell_type": "code",
   "execution_count": 2,
   "id": "0b869d1f",
   "metadata": {},
   "outputs": [
    {
     "name": "stdout",
     "output_type": "stream",
     "text": [
      "[[255 255 255 ...  95  94  93]\n",
      " [255 255 255 ...  95  94  94]\n",
      " [255 255 255 ...  94  94  94]\n",
      " ...\n",
      " [194 193 193 ... 200 201 201]\n",
      " [194 193 193 ... 202 202 200]\n",
      " [194 194 194 ... 203 203 200]]\n",
      "(5472, 3648)\n"
     ]
    }
   ],
   "source": [
    "import cv2\n",
    "img = cv2.imread(\"image.JPG\",0)\n",
    "print(img)\n",
    "print(img.shape)\n",
    "cv2.imshow('show',img)\n",
    "cv2.waitKey(8000)\n",
    "cv2.destroyAllWindows()"
   ]
  },
  {
   "cell_type": "code",
   "execution_count": null,
   "id": "919bbb72",
   "metadata": {},
   "outputs": [],
   "source": [
    "import cv2\n",
    "cap = cv2."
   ]
  }
 ],
 "metadata": {
  "kernelspec": {
   "display_name": "Python 3",
   "language": "python",
   "name": "python3"
  },
  "language_info": {
   "codemirror_mode": {
    "name": "ipython",
    "version": 3
   },
   "file_extension": ".py",
   "mimetype": "text/x-python",
   "name": "python",
   "nbconvert_exporter": "python",
   "pygments_lexer": "ipython3",
   "version": "3.8.8"
  }
 },
 "nbformat": 4,
 "nbformat_minor": 5
}
